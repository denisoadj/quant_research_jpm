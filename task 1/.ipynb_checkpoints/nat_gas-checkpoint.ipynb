{
 "cells": [
  {
   "cell_type": "code",
   "execution_count": null,
   "id": "ee04c07f",
   "metadata": {
    "is_executing": true
   },
   "outputs": [],
   "source": [
    "import pandas as pd\n",
    "import numpy as np\n",
    "import matplotlib.pyplot as plt"
   ]
  },
  {
   "cell_type": "code",
   "execution_count": null,
   "id": "6627ee21",
   "metadata": {
    "is_executing": true
   },
   "outputs": [],
   "source": [
    "df = pd.read_csv('/Users/denis/Desktop/git/quant_research_jpm/task_one/Nat_Gas.csv')\n",
    "df.head()"
   ]
  },
  {
   "cell_type": "markdown",
   "id": "6d9c75755ca2886d",
   "metadata": {},
   "source": []
  },
  {
   "cell_type": "code",
   "execution_count": null,
   "id": "ed662d7dcf177f88",
   "metadata": {},
   "outputs": [],
   "source": []
  },
  {
   "cell_type": "code",
   "execution_count": null,
   "id": "dd55638a",
   "metadata": {
    "is_executing": true
   },
   "outputs": [],
   "source": [
    "df['Dates'] =  pd.to_datetime(df.Date, format='%d/%m-%Y')\n",
    "df['Year'] = df['Dates'].dt.year"
   ]
  },
  {
   "cell_type": "code",
   "execution_count": null,
   "id": "90011780523df561",
   "metadata": {},
   "outputs": [],
   "source": []
  }
 ],
 "metadata": {
  "kernelspec": {
   "display_name": "Python 3",
   "language": "python",
   "name": "python3"
  },
  "language_info": {
   "codemirror_mode": {
    "name": "ipython",
    "version": 3
   },
   "file_extension": ".py",
   "mimetype": "text/x-python",
   "name": "python",
   "nbconvert_exporter": "python",
   "pygments_lexer": "ipython3",
   "version": "3.8.8"
  },
  "vscode": {
   "interpreter": {
    "hash": "35460bdefaf7888942610aa8c1d75a3f612be3b270e46d6f63e228bdc15446f2"
   }
  }
 },
 "nbformat": 4,
 "nbformat_minor": 5
}

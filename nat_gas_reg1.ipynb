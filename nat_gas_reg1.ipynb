{
 "cells": [
  {
   "cell_type": "markdown",
   "id": "a8ff7a09",
   "metadata": {},
   "source": [
    "## Linear regression approach"
   ]
  },
  {
   "cell_type": "code",
   "execution_count": 4,
   "id": "ee04c07f",
   "metadata": {
    "is_executing": true
   },
   "outputs": [],
   "source": [
    "import pandas as pd\n",
    "import numpy as np\n",
    "import matplotlib.pyplot as plt"
   ]
  },
  {
   "cell_type": "code",
   "execution_count": 5,
   "id": "6627ee21",
   "metadata": {
    "is_executing": true
   },
   "outputs": [
    {
     "data": {
      "text/html": [
       "<div>\n",
       "<style scoped>\n",
       "    .dataframe tbody tr th:only-of-type {\n",
       "        vertical-align: middle;\n",
       "    }\n",
       "\n",
       "    .dataframe tbody tr th {\n",
       "        vertical-align: top;\n",
       "    }\n",
       "\n",
       "    .dataframe thead th {\n",
       "        text-align: right;\n",
       "    }\n",
       "</style>\n",
       "<table border=\"1\" class=\"dataframe\">\n",
       "  <thead>\n",
       "    <tr style=\"text-align: right;\">\n",
       "      <th></th>\n",
       "      <th>Prices</th>\n",
       "    </tr>\n",
       "  </thead>\n",
       "  <tbody>\n",
       "    <tr>\n",
       "      <th>count</th>\n",
       "      <td>48.000000</td>\n",
       "    </tr>\n",
       "    <tr>\n",
       "      <th>mean</th>\n",
       "      <td>11.207083</td>\n",
       "    </tr>\n",
       "    <tr>\n",
       "      <th>std</th>\n",
       "      <td>0.757897</td>\n",
       "    </tr>\n",
       "    <tr>\n",
       "      <th>min</th>\n",
       "      <td>9.840000</td>\n",
       "    </tr>\n",
       "    <tr>\n",
       "      <th>25%</th>\n",
       "      <td>10.650000</td>\n",
       "    </tr>\n",
       "    <tr>\n",
       "      <th>50%</th>\n",
       "      <td>11.300000</td>\n",
       "    </tr>\n",
       "    <tr>\n",
       "      <th>75%</th>\n",
       "      <td>11.625000</td>\n",
       "    </tr>\n",
       "    <tr>\n",
       "      <th>max</th>\n",
       "      <td>12.800000</td>\n",
       "    </tr>\n",
       "  </tbody>\n",
       "</table>\n",
       "</div>"
      ],
      "text/plain": [
       "          Prices\n",
       "count  48.000000\n",
       "mean   11.207083\n",
       "std     0.757897\n",
       "min     9.840000\n",
       "25%    10.650000\n",
       "50%    11.300000\n",
       "75%    11.625000\n",
       "max    12.800000"
      ]
     },
     "execution_count": 5,
     "metadata": {},
     "output_type": "execute_result"
    }
   ],
   "source": [
    "df = pd.read_csv('Nat__Gas.csv')\n",
    "df.head()\n",
    "df.describe()"
   ]
  },
  {
   "cell_type": "code",
   "execution_count": 6,
   "id": "dd55638a",
   "metadata": {
    "is_executing": true
   },
   "outputs": [],
   "source": [
    "df['Dates'] =  pd.to_datetime(df.Dates, format='%m/%d/%y')\n",
    "df['Year'] = df['Dates'].dt.year\n",
    "df['Month'] = df['Dates'].dt.month"
   ]
  },
  {
   "cell_type": "code",
   "execution_count": 7,
   "id": "90011780523df561",
   "metadata": {},
   "outputs": [
    {
     "data": {
      "image/png": "[encoded data removed]",
      "text/plain": [
       "<Figure size 432x288 with 1 Axes>"
      ]
     },
     "metadata": {
      "needs_background": "light"
     },
     "output_type": "display_data"
    },
    {
     "data": {
      "image/png": "[encoded data removed]",
      "text/plain": [
       "<Figure size 432x288 with 1 Axes>"
      ]
     },
     "metadata": {
      "needs_background": "light"
     },
     "output_type": "display_data"
    }
   ],
   "source": [
    "ax, ax_2 = df.plot.line(x='Dates', y='Prices'), df.plot.scatter(x='Month', y='Prices')"
   ]
  },
  {
   "cell_type": "code",
   "execution_count": 8,
   "id": "54c5328d",
   "metadata": {},
   "outputs": [],
   "source": [
    "import statsmodels.formula.api as smf"
   ]
  },
  {
   "cell_type": "code",
   "execution_count": 9,
   "id": "816f1925",
   "metadata": {},
   "outputs": [
    {
     "data": {
      "text/plain": [
       "Dates     datetime64[ns]\n",
       "Prices           float64\n",
       "Year               int64\n",
       "Month              int64\n",
       "dtype: object"
      ]
     },
     "execution_count": 9,
     "metadata": {},
     "output_type": "execute_result"
    }
   ],
   "source": [
    "df.dtypes"
   ]
  },
  {
   "cell_type": "code",
   "execution_count": 10,
   "id": "afb9223a",
   "metadata": {},
   "outputs": [],
   "source": [
    "df['Prices_int'] = df['Prices'].astype(int)"
   ]
  },
  {
   "cell_type": "code",
   "execution_count": 11,
   "id": "62d5cb2f",
   "metadata": {},
   "outputs": [],
   "source": [
    "reg1 = smf.ols(formula=\" Prices_int ~ Year + Month\", data=df).fit()"
   ]
  },
  {
   "cell_type": "code",
   "execution_count": 12,
   "id": "de61aae6",
   "metadata": {},
   "outputs": [],
   "source": [
    "y_pred = reg1.predict()"
   ]
  },
  {
   "cell_type": "code",
   "execution_count": 24,
   "id": "8a0900b1",
   "metadata": {},
   "outputs": [
    {
     "data": {
      "text/plain": [
       "[<matplotlib.lines.Line2D at 0x1228cf850>]"
      ]
     },
     "execution_count": 24,
     "metadata": {},
     "output_type": "execute_result"
    },
    {
     "data": {
      "image/png": "[encoded data removed]",
      "text/plain": [
       "<Figure size 432x288 with 1 Axes>"
      ]
     },
     "metadata": {
      "needs_background": "light"
     },
     "output_type": "display_data"
    }
   ],
   "source": [
    "ak = df.plot.scatter(x='Dates', y='Prices')\n",
    "plt.plot(df['Dates'], y_pred, color='red', label='Regression')"
   ]
  },
  {
   "cell_type": "code",
   "execution_count": 14,
   "id": "eab5649a",
   "metadata": {},
   "outputs": [
    {
     "data": {
      "text/plain": [
       "Intercept   -874.266196\n",
       "Year           0.437568\n",
       "Month          0.022078\n",
       "dtype: float64"
      ]
     },
     "execution_count": 14,
     "metadata": {},
     "output_type": "execute_result"
    }
   ],
   "source": [
    "reg1.params"
   ]
  },
  {
   "cell_type": "code",
   "execution_count": 15,
   "id": "dd3b05f1",
   "metadata": {},
   "outputs": [
    {
     "data": {
      "text/html": [
       "<table class=\"simpletable\">\n",
       "<caption>OLS Regression Results</caption>\n",
       "<tr>\n",
       "  <th>Dep. Variable:</th>       <td>Prices_int</td>    <th>  R-squared:         </th> <td>   0.461</td>\n",
       "</tr>\n",
       "<tr>\n",
       "  <th>Model:</th>                   <td>OLS</td>       <th>  Adj. R-squared:    </th> <td>   0.437</td>\n",
       "</tr>\n",
       "<tr>\n",
       "  <th>Method:</th>             <td>Least Squares</td>  <th>  F-statistic:       </th> <td>   19.24</td>\n",
       "</tr>\n",
       "<tr>\n",
       "  <th>Date:</th>             <td>Wed, 29 Nov 2023</td> <th>  Prob (F-statistic):</th> <td>9.14e-07</td>\n",
       "</tr>\n",
       "<tr>\n",
       "  <th>Time:</th>                 <td>22:08:25</td>     <th>  Log-Likelihood:    </th> <td> -39.468</td>\n",
       "</tr>\n",
       "<tr>\n",
       "  <th>No. Observations:</th>      <td>    48</td>      <th>  AIC:               </th> <td>   84.94</td>\n",
       "</tr>\n",
       "<tr>\n",
       "  <th>Df Residuals:</th>          <td>    45</td>      <th>  BIC:               </th> <td>   90.55</td>\n",
       "</tr>\n",
       "<tr>\n",
       "  <th>Df Model:</th>              <td>     2</td>      <th>                     </th>     <td> </td>   \n",
       "</tr>\n",
       "<tr>\n",
       "  <th>Covariance Type:</th>      <td>nonrobust</td>    <th>                     </th>     <td> </td>   \n",
       "</tr>\n",
       "</table>\n",
       "<table class=\"simpletable\">\n",
       "<tr>\n",
       "      <td></td>         <th>coef</th>     <th>std err</th>      <th>t</th>      <th>P>|t|</th>  <th>[0.025</th>    <th>0.975]</th>  \n",
       "</tr>\n",
       "<tr>\n",
       "  <th>Intercept</th> <td> -874.2662</td> <td>  143.908</td> <td>   -6.075</td> <td> 0.000</td> <td>-1164.112</td> <td> -584.421</td>\n",
       "</tr>\n",
       "<tr>\n",
       "  <th>Year</th>      <td>    0.4376</td> <td>    0.071</td> <td>    6.151</td> <td> 0.000</td> <td>    0.294</td> <td>    0.581</td>\n",
       "</tr>\n",
       "<tr>\n",
       "  <th>Month</th>     <td>    0.0221</td> <td>    0.025</td> <td>    0.894</td> <td> 0.376</td> <td>   -0.028</td> <td>    0.072</td>\n",
       "</tr>\n",
       "</table>\n",
       "<table class=\"simpletable\">\n",
       "<tr>\n",
       "  <th>Omnibus:</th>       <td> 1.321</td> <th>  Durbin-Watson:     </th> <td>   1.040</td>\n",
       "</tr>\n",
       "<tr>\n",
       "  <th>Prob(Omnibus):</th> <td> 0.517</td> <th>  Jarque-Bera (JB):  </th> <td>   1.082</td>\n",
       "</tr>\n",
       "<tr>\n",
       "  <th>Skew:</th>          <td> 0.137</td> <th>  Prob(JB):          </th> <td>   0.582</td>\n",
       "</tr>\n",
       "<tr>\n",
       "  <th>Kurtosis:</th>      <td> 2.318</td> <th>  Cond. No.          </th> <td>3.55e+06</td>\n",
       "</tr>\n",
       "</table><br/><br/>Notes:<br/>[1] Standard Errors assume that the covariance matrix of the errors is correctly specified.<br/>[2] The condition number is large, 3.55e+06. This might indicate that there are<br/>strong multicollinearity or other numerical problems."
      ],
      "text/latex": [
       "\\begin{center}\n",
       "\\begin{tabular}{lclc}\n",
       "\\toprule\n",
       "\\textbf{Dep. Variable:}    &   Prices\\_int    & \\textbf{  R-squared:         } &     0.461   \\\\\n",
       "\\textbf{Model:}            &       OLS        & \\textbf{  Adj. R-squared:    } &     0.437   \\\\\n",
       "\\textbf{Method:}           &  Least Squares   & \\textbf{  F-statistic:       } &     19.24   \\\\\n",
       "\\textbf{Date:}             & Wed, 29 Nov 2023 & \\textbf{  Prob (F-statistic):} &  9.14e-07   \\\\\n",
       "\\textbf{Time:}             &     22:08:25     & \\textbf{  Log-Likelihood:    } &   -39.468   \\\\\n",
       "\\textbf{No. Observations:} &          48      & \\textbf{  AIC:               } &     84.94   \\\\\n",
       "\\textbf{Df Residuals:}     &          45      & \\textbf{  BIC:               } &     90.55   \\\\\n",
       "\\textbf{Df Model:}         &           2      & \\textbf{                     } &             \\\\\n",
       "\\textbf{Covariance Type:}  &    nonrobust     & \\textbf{                     } &             \\\\\n",
       "\\bottomrule\n",
       "\\end{tabular}\n",
       "\\begin{tabular}{lcccccc}\n",
       "                   & \\textbf{coef} & \\textbf{std err} & \\textbf{t} & \\textbf{P$> |$t$|$} & \\textbf{[0.025} & \\textbf{0.975]}  \\\\\n",
       "\\midrule\n",
       "\\textbf{Intercept} &    -874.2662  &      143.908     &    -6.075  &         0.000        &    -1164.112    &     -584.421     \\\\\n",
       "\\textbf{Year}      &       0.4376  &        0.071     &     6.151  &         0.000        &        0.294    &        0.581     \\\\\n",
       "\\textbf{Month}     &       0.0221  &        0.025     &     0.894  &         0.376        &       -0.028    &        0.072     \\\\\n",
       "\\bottomrule\n",
       "\\end{tabular}\n",
       "\\begin{tabular}{lclc}\n",
       "\\textbf{Omnibus:}       &  1.321 & \\textbf{  Durbin-Watson:     } &    1.040  \\\\\n",
       "\\textbf{Prob(Omnibus):} &  0.517 & \\textbf{  Jarque-Bera (JB):  } &    1.082  \\\\\n",
       "\\textbf{Skew:}          &  0.137 & \\textbf{  Prob(JB):          } &    0.582  \\\\\n",
       "\\textbf{Kurtosis:}      &  2.318 & \\textbf{  Cond. No.          } & 3.55e+06  \\\\\n",
       "\\bottomrule\n",
       "\\end{tabular}\n",
       "%\\caption{OLS Regression Results}\n",
       "\\end{center}\n",
       "\n",
       "Notes: \\newline\n",
       " [1] Standard Errors assume that the covariance matrix of the errors is correctly specified. \\newline\n",
       " [2] The condition number is large, 3.55e+06. This might indicate that there are \\newline\n",
       " strong multicollinearity or other numerical problems."
      ],
      "text/plain": [
       "<class 'statsmodels.iolib.summary.Summary'>\n",
       "\"\"\"\n",
       "                            OLS Regression Results                            \n",
       "==============================================================================\n",
       "Dep. Variable:             Prices_int   R-squared:                       0.461\n",
       "Model:                            OLS   Adj. R-squared:                  0.437\n",
       "Method:                 Least Squares   F-statistic:                     19.24\n",
       "Date:                Wed, 29 Nov 2023   Prob (F-statistic):           9.14e-07\n",
       "Time:                        22:08:25   Log-Likelihood:                -39.468\n",
       "No. Observations:                  48   AIC:                             84.94\n",
       "Df Residuals:                      45   BIC:                             90.55\n",
       "Df Model:                           2                                         \n",
       "Covariance Type:            nonrobust                                         \n",
       "==============================================================================\n",
       "                 coef    std err          t      P>|t|      [0.025      0.975]\n",
       "------------------------------------------------------------------------------\n",
       "Intercept   -874.2662    143.908     -6.075      0.000   -1164.112    -584.421\n",
       "Year           0.4376      0.071      6.151      0.000       0.294       0.581\n",
       "Month          0.0221      0.025      0.894      0.376      -0.028       0.072\n",
       "==============================================================================\n",
       "Omnibus:                        1.321   Durbin-Watson:                   1.040\n",
       "Prob(Omnibus):                  0.517   Jarque-Bera (JB):                1.082\n",
       "Skew:                           0.137   Prob(JB):                        0.582\n",
       "Kurtosis:                       2.318   Cond. No.                     3.55e+06\n",
       "==============================================================================\n",
       "\n",
       "Notes:\n",
       "[1] Standard Errors assume that the covariance matrix of the errors is correctly specified.\n",
       "[2] The condition number is large, 3.55e+06. This might indicate that there are\n",
       "strong multicollinearity or other numerical problems.\n",
       "\"\"\""
      ]
     },
     "execution_count": 15,
     "metadata": {},
     "output_type": "execute_result"
    }
   ],
   "source": [
    "reg1.summary()"
   ]
  },
  {
   "cell_type": "code",
   "execution_count": 16,
   "id": "866a00bf",
   "metadata": {},
   "outputs": [
    {
     "data": {
      "text/plain": [
       "0    12.052665\n",
       "dtype: float64"
      ]
     },
     "execution_count": 16,
     "metadata": {},
     "output_type": "execute_result"
    }
   ],
   "source": [
    "reg1.predict(pd.DataFrame({'Year': [2025], 'Month': [11]}))"
   ]
  },
  {
   "cell_type": "code",
   "execution_count": 17,
   "id": "de382b94",
   "metadata": {},
   "outputs": [],
   "source": [
    "from datetime import datetime \n",
    "import datetime as dt\n",
    "from dateutil.parser import parse"
   ]
  },
  {
   "cell_type": "code",
   "execution_count": 20,
   "id": "402f6365",
   "metadata": {},
   "outputs": [],
   "source": [
    "def get_price_estimate(date):\n",
    "    if type(date) != str:\n",
    "        print (\"Please follow the convetion Year - Month - Day and input the date within quotation marks \")\n",
    "    else:\n",
    "        year = parse(date).year\n",
    "        month = parse(date).month\n",
    "        return reg1.predict(pd.DataFrame({'Year': [year], 'Month': [month]}))"
   ]
  },
  {
   "cell_type": "markdown",
   "id": "a173fd2b",
   "metadata": {},
   "source": [
    "## Price Prediction by using simple linear regression"
   ]
  },
  {
   "cell_type": "code",
   "execution_count": 25,
   "id": "968c1e0f",
   "metadata": {
    "scrolled": true
   },
   "outputs": [
    {
     "data": {
      "text/plain": [
       "0    12.074743\n",
       "dtype: float64"
      ]
     },
     "execution_count": 25,
     "metadata": {},
     "output_type": "execute_result"
    }
   ],
   "source": [
    "get_price_estimate('2025-12-30') "
   ]
  },
  {
   "cell_type": "code",
   "execution_count": null,
   "id": "60fd61d6",
   "metadata": {},
   "outputs": [],
   "source": []
  }
 ],
 "metadata": {
  "kernelspec": {
   "display_name": "Python 3",
   "language": "python",
   "name": "python3"
  },
  "language_info": {
   "codemirror_mode": {
    "name": "ipython",
    "version": 3
   },
   "file_extension": ".py",
   "mimetype": "text/x-python",
   "name": "python",
   "nbconvert_exporter": "python",
   "pygments_lexer": "ipython3",
   "version": "3.8.8"
  },
  "vscode": {
   "interpreter": {
    "hash": "35460bdefaf7888942610aa8c1d75a3f612be3b270e46d6f63e228bdc15446f2"
   }
  }
 },
 "nbformat": 4,
 "nbformat_minor": 5
}

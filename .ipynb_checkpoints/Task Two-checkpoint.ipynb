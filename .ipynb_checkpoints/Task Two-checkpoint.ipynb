{
 "cells": [
  {
   "cell_type": "markdown",
   "id": "7c731b47",
   "metadata": {},
   "source": [
    "## Theoretical Pricing Model"
   ]
  },
  {
   "cell_type": "code",
   "execution_count": 2,
   "id": "bd071739",
   "metadata": {},
   "outputs": [],
   "source": [
    "from datetime import date\n",
    "import math"
   ]
  },
  {
   "cell_type": "code",
   "execution_count": 12,
   "id": "0a9d462a",
   "metadata": {},
   "outputs": [],
   "source": [
    "def price_contract(in_dates, in_prices, out_dates, out_prices,\n",
    "                  rate, storage_cost_rate, total_vol, inj_with_cost_rate):\n",
    "    volume = 0\n",
    "    buy_cost = 0\n",
    "    cash_in = 0\n",
    "    last_date = min(min(in_dates), min(out_dates))\n",
    "    \n",
    "    all_dates = sorted(set(in_dates + out_dates)) #dates in sequence\n",
    "    \n",
    "    for i in range(len(all_dates)):\n",
    "        start = all_dates[i]\n",
    "        \n",
    "        if start in in_dates: # => inject on these days and sum cash flows\n",
    "            if volume <= total_vol - rate:\n",
    "                volume += rate\n",
    "                \n",
    "                buy_cost += rate * in_prices[in_dates.index(start)] #cost to purchase\n",
    "                injection_cost = rate * inj_with_cost_rate \n",
    "                buy_cost += injection_cost\n",
    "                print('Injection gas date: %s at a price of %s'%(start, in_prices[in_dates.index(start)]))\n",
    "            \n",
    "            else: \n",
    "                print('Injection is not possible on date: %s, insufficent space in the storage'%start)\n",
    "\n",
    "        elif start in out_dates: # => withdraw on these days and sum cash flows\n",
    "            if volume >= rate:\n",
    "                volume -= rate\n",
    "                \n",
    "                cash_in += rate * out_prices[out_dates.index(start)]\n",
    "                withdrawal_cost = rate * inj_with_cost_rate\n",
    "                cash_in -= withdrawal_cost\n",
    "                print('Extracted gas on %s at a price  of %s'%(start, out_prices[out_dates.index(start)]))\n",
    "            \n",
    "            else: # cannot withdrawn gas that are not actually stored\n",
    "                print('Extraction not possible on date %s, insufficent voleme of gas'%start)\n",
    "                \n",
    "                \n",
    "    \n",
    "    store_cost = math.ceil((max(out_dates) - min(in_dates)).days // 30) * storage_cost_rate\n",
    "    return cash_in - store_cost - buy_cost\n",
    "                \n",
    "            \n",
    "                "
   ]
  },
  {
   "cell_type": "markdown",
   "id": "80740e44",
   "metadata": {},
   "source": [
    "### Test cases "
   ]
  },
  {
   "cell_type": "code",
   "execution_count": 13,
   "id": "65c6bc17",
   "metadata": {},
   "outputs": [
    {
     "name": "stdout",
     "output_type": "stream",
     "text": [
      "Injection gas date: 2022-01-01 at a price of 20\n",
      "Extracted gas on 2022-01-27 at a price  of 23\n",
      "Injection gas date: 2022-02-01 at a price of 21\n",
      "Extracted gas on 2022-02-15 at a price  of 19\n",
      "Injection gas date: 2022-02-21 at a price of 20.5\n",
      "Extracted gas on 2022-03-20 at a price  of 21\n",
      "Injection gas date: 2022-04-01 at a price of 22\n",
      "Extracted gas on 2022-06-01 at a price  of 25\n",
      "\n",
      "The value of the contract is: $399600.0\n"
     ]
    }
   ],
   "source": [
    "in_dates = [date(2022, 1, 1), date(2022, 2, 1), date(2022, 2, 21), date(2022, 4, 1)] #injection dates\n",
    "in_prices = [20, 21, 20.5, 22]#prices on the injection days\n",
    "out_dates = [date(2022, 1, 27), date(2022, 2, 15), date(2022, 3, 20), date(2022, 6, 1)] # extraction dates\n",
    "out_prices = [23, 19, 21, 25] # prices on the extraction days\n",
    "rate = 100000  # rate of gas in cubic feet per day\n",
    "storage_cost_rate = 10000  # total volume in cubic feet\n",
    "inj_with_cost_rate = 0.0005  # $/cf\n",
    "max_storage_volume = 500000 # maximum storage capacity of the storage facility\n",
    "\n",
    "result = price_contract(in_dates, in_prices, out_dates, out_prices, rate, storage_cost_rate, max_storage_volume, inj_with_cost_rate)\n",
    "\n",
    "print()\n",
    "print(f\"The value of the contract is: ${result}\")\n"
   ]
  },
  {
   "cell_type": "markdown",
   "id": "d1e940ac",
   "metadata": {},
   "source": [
    "## Summary \n",
    "\n",
    "\n"
   ]
  },
  {
   "cell_type": "markdown",
   "id": "68fdece2",
   "metadata": {},
   "source": [
    "The function takes in eight inputs:\n",
    "\n",
    "in_dates : A list of dates on which the gas is being injected into the storage facility.\n",
    "\n",
    "in_prices : A list of prices of gas on each of the injection dates.\n",
    "\n",
    "out_dates : A list of dates on which the gas is being withdrawn from the storage facility.\n",
    "\n",
    "out_prices : A list of prices of gas on each of the withdrawal dates.\n",
    "\n",
    "rate : The rate of gas in cubic feet per day.\n",
    "\n",
    "storage_cost_rate : A fixed monthly fee to store the gas\n",
    "\n",
    "total_vol : The total volume of gas in cubic feet that can be stored.\n",
    "\n",
    "inj_with_cost_rate : The injection/withdrawal cost of gas in dollars per cubic foot."
   ]
  },
  {
   "cell_type": "markdown",
   "id": "8a147616",
   "metadata": {},
   "source": [
    "The function first ensures that all the dates are in sequence and sorted in ascending order. \n",
    "Then, it iterates over all the dates and calculates the cash flows on each date. \n",
    "\n",
    "If the current date is an injection date, it injects gas into the storage facility \n",
    "and calculates the cost to store the gas, the cost to purchase the gas,and the injection cost. \n",
    "\n",
    "If the current date is a withdrawal date, it withdraws gas from the storage facility \n",
    "and calculates the cash inflow from selling the gas, the cost to store the remaining gas, and the withdrawal cost.\n"
   ]
  },
  {
   "cell_type": "code",
   "execution_count": null,
   "id": "e4d67329",
   "metadata": {},
   "outputs": [],
   "source": []
  }
 ],
 "metadata": {
  "kernelspec": {
   "display_name": "Python 3",
   "language": "python",
   "name": "python3"
  },
  "language_info": {
   "codemirror_mode": {
    "name": "ipython",
    "version": 3
   },
   "file_extension": ".py",
   "mimetype": "text/x-python",
   "name": "python",
   "nbconvert_exporter": "python",
   "pygments_lexer": "ipython3",
   "version": "3.8.8"
  }
 },
 "nbformat": 4,
 "nbformat_minor": 5
}
